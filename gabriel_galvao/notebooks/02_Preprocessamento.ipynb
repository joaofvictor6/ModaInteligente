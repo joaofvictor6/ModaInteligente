{
 "cells": [
  {
   "cell_type": "code",
   "execution_count": 2,
   "metadata": {},
   "outputs": [],
   "source": [
    "import pandas as pd\n",
    "from sklearn.preprocessing import OneHotEncoder, MinMaxScaler\n"
   ]
  },
  {
   "cell_type": "code",
   "execution_count": 12,
   "metadata": {},
   "outputs": [],
   "source": [
    "# Carregar dataset\n",
    "df = pd.read_csv(\"../dados/myntra_products_catalog.csv\")\n",
    "\n",
    "# Tratamento de valores ausentes\n",
    "df['PrimaryColor'] = df['PrimaryColor'].fillna(\"Desconhecido\")\n",
    "df['Description'] = df['Description'].fillna(\"\")\n",
    "df['ProductName'] = df['ProductName'].fillna(\"\")\n"
   ]
  },
  {
   "cell_type": "code",
   "execution_count": 5,
   "metadata": {},
   "outputs": [],
   "source": [
    "# Normalizar preços\n",
    "scaler = MinMaxScaler()\n",
    "df['Price_Normalized'] = scaler.fit_transform(df[['Price (INR)']])\n"
   ]
  },
  {
   "cell_type": "code",
   "execution_count": 10,
   "metadata": {},
   "outputs": [
    {
     "name": "stdout",
     "output_type": "stream",
     "text": [
      "   ProductID                                        ProductName ProductBrand  \\\n",
      "0   10017413  DKNY Unisex Black & Grey Printed Medium Trolle...         DKNY   \n",
      "1   10016283  EthnoVogue Women Beige & Grey Made to Measure ...   EthnoVogue   \n",
      "2   10009781  SPYKAR Women Pink Alexa Super Skinny Fit High-...       SPYKAR   \n",
      "3   10015921  Raymond Men Blue Self-Design Single-Breasted B...      Raymond   \n",
      "4   10017833  Parx Men Brown & Off-White Slim Fit Printed Ca...         Parx   \n",
      "\n",
      "   Gender  Price (INR)  NumImages  \\\n",
      "0  Unisex        11745          7   \n",
      "1   Women         5810          7   \n",
      "2   Women          899          7   \n",
      "3     Men         5599          5   \n",
      "4     Men          759          5   \n",
      "\n",
      "                                         Description PrimaryColor  \\\n",
      "0  Black and grey printed medium trolley bag, sec...        Black   \n",
      "1  Beige & Grey made to measure kurta with churid...        Beige   \n",
      "2  Pink coloured wash 5-pocket high-rise cropped ...         Pink   \n",
      "3  Blue self-design bandhgala suitBlue self-desig...         Blue   \n",
      "4  Brown and off-white printed casual shirt, has ...        White   \n",
      "\n",
      "   Price_Normalized  Gender_Boys  Gender_Girls  Gender_Men  Gender_Unisex  \\\n",
      "0          0.185000          0.0           0.0         0.0            1.0   \n",
      "1          0.090794          0.0           0.0         0.0            0.0   \n",
      "2          0.012841          0.0           0.0         0.0            0.0   \n",
      "3          0.087444          0.0           0.0         1.0            0.0   \n",
      "4          0.010619          0.0           0.0         1.0            0.0   \n",
      "\n",
      "   Gender_Unisex Kids  Gender_Women  \n",
      "0                 0.0           0.0  \n",
      "1                 0.0           1.0  \n",
      "2                 0.0           1.0  \n",
      "3                 0.0           0.0  \n",
      "4                 0.0           0.0  \n"
     ]
    }
   ],
   "source": [
    "from sklearn.preprocessing import OneHotEncoder\n",
    "import pandas as pd\n",
    "\n",
    "# Codificação One-Hot\n",
    "encoder = OneHotEncoder(sparse_output=False)  # Usar sparse_output em vez de sparse\n",
    "encoded_gender = encoder.fit_transform(df[['Gender']])\n",
    "\n",
    "# Criar DataFrame com os dados codificados\n",
    "encoded_df = pd.DataFrame(encoded_gender, columns=encoder.get_feature_names_out())\n",
    "\n",
    "# Concatenar com o DataFrame original\n",
    "df = pd.concat([df, encoded_df], axis=1)\n",
    "\n",
    "# Visualizar as primeiras linhas do DataFrame atualizado\n",
    "print(df.head())\n"
   ]
  }
 ],
 "metadata": {
  "kernelspec": {
   "display_name": "Python 3",
   "language": "python",
   "name": "python3"
  },
  "language_info": {
   "codemirror_mode": {
    "name": "ipython",
    "version": 3
   },
   "file_extension": ".py",
   "mimetype": "text/x-python",
   "name": "python",
   "nbconvert_exporter": "python",
   "pygments_lexer": "ipython3",
   "version": "3.12.0"
  }
 },
 "nbformat": 4,
 "nbformat_minor": 2
}
